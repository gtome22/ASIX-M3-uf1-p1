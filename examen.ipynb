{
  "nbformat": 4,
  "nbformat_minor": 0,
  "metadata": {
    "colab": {
      "provenance": [],
      "authorship_tag": "ABX9TyPpQ9as9Owv6ATekrs1tVSY",
      "include_colab_link": true
    },
    "kernelspec": {
      "name": "python3",
      "display_name": "Python 3"
    },
    "language_info": {
      "name": "python"
    }
  },
  "cells": [
    {
      "cell_type": "markdown",
      "metadata": {
        "id": "view-in-github",
        "colab_type": "text"
      },
      "source": [
        "<a href=\"https://colab.research.google.com/github/gtome22/ASIX-M3-uf1-p1/blob/main/examen.ipynb\" target=\"_parent\"><img src=\"https://colab.research.google.com/assets/colab-badge.svg\" alt=\"Open In Colab\"/></a>"
      ]
    },
    {
      "cell_type": "code",
      "source": [
        "mes_30 = [\"Febrer\",\"Abril\",\"Juny\",\"Setembre\",\"Novembre\"]\n",
        "mes_31 = [\"Gener\", \"Març\", \"Maig\",\"Juliol\",\"Agost\",\"Octubre\",\"Desembre\"]\n",
        "dies = [\"dilluns\",\"dimarts\",\"dimecres\",\"dijous\",\"divendres\",\"dissabte\",\"diumenge\"]\n",
        "pregunta = input(\"dime un mes y te respondere con la posicion de la lista: \")\n",
        "if pregunta == \"Febrer\": \n",
        "    print(\"0 posicion y tiene 30 dias\")\n",
        "if pregunta == \"Gener\": \n",
        "    print(\"0 posicion tiene 31 dias\")\n",
        "if pregunta == \"Abril\": \n",
        "    print(\"1 posicion tiene 30 dias\")\n",
        "if pregunta == \"Març\": \n",
        "    print(\"1 posicion tiene 31 dias\")\n",
        "if pregunta == \"Juny\": \n",
        "    print(\"2 posicion tiene 30 dias\")\n",
        "if pregunta == \"Maig\": \n",
        "    print(\"2 posicion tiene 31 dias\")\n",
        "if pregunta == \"Setembre\": \n",
        "    print(\"3 posicion tiene 30 dias\")\n",
        "if pregunta == \"Juliol\": \n",
        "    print(\"3 posicion tiene 31 dias\")\n",
        "if pregunta == \"Novembre4\": \n",
        "    print(\"4 posicion tiene 30 dias\")\n",
        "if pregunta == \"Agost\": \n",
        "    print(\"4 posicion tiene 31 dias\")\n",
        "if pregunta == \"Octubre\": \n",
        "    print(\"5 posicion tiene 31 dias\")\n",
        "if pregunta == \"Desembre\": \n",
        "    print(\"6 posicion tiene 31 dias\")"
      ],
      "metadata": {
        "colab": {
          "base_uri": "https://localhost:8080/"
        },
        "id": "bcJwDTShs28x",
        "outputId": "4c5dbf5c-ee4d-42fc-a06f-56bfc67cb0c7"
      },
      "execution_count": 29,
      "outputs": [
        {
          "output_type": "stream",
          "name": "stdout",
          "text": [
            "dime un mes y te respondere con la posicion de la lista: Juny\n",
            "2 posicion tiene 30 dias\n"
          ]
        }
      ]
    },
    {
      "cell_type": "code",
      "source": [
        "dicci={}\n",
        "list=[]\n",
        "dinero = 40\n",
        "suma = sum(list)\n",
        "pregunta =input(\"quieres añadir un producto?\")\n",
        "while pregunta!= \"no\":\n",
        "  pregunta1 = input(\"que quieres añadir?\")\n",
        "  pregunta2 =int(input(\"que precio?\"))\n",
        "  dicci[pregunta1]=pregunta2\n",
        "  list.append(pregunta2)\n",
        "  pregunta =input(\"quieres añadir un producto?\")\n",
        "print(dicci)\n",
        "print(dinero - sum(list),\"este es el dinero total de la familia\")\n",
        "\n"
      ],
      "metadata": {
        "colab": {
          "base_uri": "https://localhost:8080/"
        },
        "id": "59u2FunJxYlR",
        "outputId": "8d0bd599-6322-4518-a87e-ef9898e14d66"
      },
      "execution_count": 100,
      "outputs": [
        {
          "output_type": "stream",
          "name": "stdout",
          "text": [
            "quieres añadir un producto?pan\n",
            "que quieres añadir?pan\n",
            "que precio?3\n",
            "quieres añadir un producto?si\n",
            "que quieres añadir?pan\n",
            "que precio?3\n",
            "quieres añadir un producto?no\n",
            "{'pan': 3}\n",
            "34 este es el dinero total de la familia\n"
          ]
        }
      ]
    },
    {
      "cell_type": "code",
      "source": [
        "camp = {\n",
        "0:[\"-\",\"-\",\"-\",\"-\",\"-\",\"-\",\"-\",\"-\",\"-\"],\n",
        "1:[\"-\",\"-\",\"-\",\"-\",\"-\",\"-\",\"-\",\"-\",\"-\"],\n",
        "2:[\"-\",\"-\",\"-\",\"-\",\"-\",\"-\",\"-\",\"-\",\"-\"],\n",
        "3:[\"-\",\"-\",\"-\",\"-\",\"-\",\"-\",\"-\",\"-\",\"-\"],\n",
        "4:[\"-\",\"-\",\"-\",\"-\",\"-\",\"-\",\"-\",\"-\",\"-\"],\n",
        "5:[\"-\",\"-\",\"-\",\"-\",\"-\",\"-\",\"-\",\"-\",\"-\"],\n",
        "6:[\"-\",\"-\",\"-\",\"-\",\"-\",\"-\",\"-\",\"-\",\"-\"],\n",
        "7:[\"-\",\"-\",\"-\",\"-\",\"-\",\"-\",\"-\",\"-\",\"-\"],\n",
        "8:[\"-\",\"-\",\"-\",\"-\",\"-\",\"-\",\"-\",\"-\",\"-\"],\n",
        "}\n",
        "\n",
        "for key in camp:\n",
        "  for i in camp[key]:\n",
        "    print(i,end=\"\")\n",
        "  print(\"\")\n",
        "col = int(input(\"dime una columna\"))\n",
        "fil = int(input(\"dime una fila\"))\n",
        "valor = input(\"dime que quieres plantar T,P,E\")\n",
        "camp[col][fil] = valor\n",
        "for key in camp:\n",
        "  for i in camp[key]:\n",
        "    print(i,end=\"\")\n",
        "  print(\"\")\n",
        "for key in camp:\n",
        "  for e in camp[key]:\n",
        "    print(e,end=\"A\")\n",
        "  print(\" \")\n",
        "\n",
        "\n",
        "\n",
        "\n"
      ],
      "metadata": {
        "colab": {
          "base_uri": "https://localhost:8080/"
        },
        "id": "JCJoNYV651re",
        "outputId": "11573209-b986-449f-c485-b2b9956e277a"
      },
      "execution_count": 87,
      "outputs": [
        {
          "output_type": "stream",
          "name": "stdout",
          "text": [
            "---------\n",
            "---------\n",
            "---------\n",
            "---------\n",
            "---------\n",
            "---------\n",
            "---------\n",
            "---------\n",
            "---------\n",
            "dime una columna1\n",
            "dime una fila2\n",
            "dime que quieres plantar T,P,ET\n",
            "---------\n",
            "--T------\n",
            "---------\n",
            "---------\n",
            "---------\n",
            "---------\n",
            "---------\n",
            "---------\n",
            "---------\n",
            "-A-A-A-A-A-A-A-A-A \n",
            "-A-ATA-A-A-A-A-A-A \n",
            "-A-A-A-A-A-A-A-A-A \n",
            "-A-A-A-A-A-A-A-A-A \n",
            "-A-A-A-A-A-A-A-A-A \n",
            "-A-A-A-A-A-A-A-A-A \n",
            "-A-A-A-A-A-A-A-A-A \n",
            "-A-A-A-A-A-A-A-A-A \n",
            "-A-A-A-A-A-A-A-A-A \n"
          ]
        }
      ]
    }
  ]
}